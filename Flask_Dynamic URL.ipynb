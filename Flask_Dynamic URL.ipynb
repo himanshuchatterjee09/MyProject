{
 "cells": [
  {
   "cell_type": "code",
   "execution_count": 27,
   "id": "edac5112-02cc-4549-83de-b5bfaafce4e4",
   "metadata": {},
   "outputs": [
    {
     "name": "stdout",
     "output_type": "stream",
     "text": [
      " * Serving Flask app '__main__'\n",
      " * Debug mode: off\n"
     ]
    },
    {
     "name": "stderr",
     "output_type": "stream",
     "text": [
      "WARNING: This is a development server. Do not use it in a production deployment. Use a production WSGI server instead.\n",
      " * Running on http://127.0.0.1:5000\n",
      "Press CTRL+C to quit\n",
      "127.0.0.1 - - [04/Sep/2024 08:37:41] \"GET /result/90 HTTP/1.1\" 302 -\n",
      "127.0.0.1 - - [04/Sep/2024 08:37:41] \"GET /success/90 HTTP/1.1\" 200 -\n"
     ]
    }
   ],
   "source": [
    "from flask import Flask,redirect,url_for\n",
    "app = Flask(__name__)\n",
    "@app.route('/')\n",
    "def welcome():\n",
    "    return 'Good Morning ! Himanshu'\n",
    "\n",
    "@app.route('/member')\n",
    "def member():\n",
    "    return 'Good Morning ! Himanshu, You are a member now'\n",
    "\n",
    "@app.route('/success/<int:score>')\n",
    "def success(score):\n",
    "    return \"<html><body><h2>THE RESULT IS PASSED</h2></body></html>\"\n",
    "\n",
    "@app.route('/fail/<int:score>')\n",
    "def fail(score):\n",
    "    return \"<html><body><h1>THE RESULT IS FAILED</h1></body></html>\"\n",
    "\n",
    "@app.route('/result/<int:marks>')\n",
    "def result(marks):\n",
    "    if marks > 60:\n",
    "        result = 'success'\n",
    "    else:\n",
    "        result = 'fail'\n",
    "    return redirect(url_for(result,score = marks))\n",
    "\n",
    "if __name__ == '__main__':\n",
    "    app.run()\n"
   ]
  },
  {
   "cell_type": "code",
   "execution_count": null,
   "id": "8dc4d1d1-6614-45db-aec2-3393bd0bcfb9",
   "metadata": {},
   "outputs": [],
   "source": []
  }
 ],
 "metadata": {
  "kernelspec": {
   "display_name": "Python 3 (ipykernel)",
   "language": "python",
   "name": "python3"
  },
  "language_info": {
   "codemirror_mode": {
    "name": "ipython",
    "version": 3
   },
   "file_extension": ".py",
   "mimetype": "text/x-python",
   "name": "python",
   "nbconvert_exporter": "python",
   "pygments_lexer": "ipython3",
   "version": "3.12.4"
  }
 },
 "nbformat": 4,
 "nbformat_minor": 5
}
